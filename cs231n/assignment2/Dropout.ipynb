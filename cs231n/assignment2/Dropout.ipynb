{
 "cells": [
  {
   "cell_type": "markdown",
   "metadata": {},
   "source": [
    "# Dropout\n",
    "Dropout [1] is a technique for regularizing neural networks by randomly setting some features to zero during the forward pass. In this exercise you will implement a dropout layer and modify your fully-connected network to optionally use dropout.\n",
    "\n",
    "[1] Geoffrey E. Hinton et al, \"Improving neural networks by preventing co-adaptation of feature detectors\", arXiv 2012"
   ]
  },
  {
   "cell_type": "code",
   "execution_count": 2,
   "metadata": {
    "collapsed": false
   },
   "outputs": [
    {
     "name": "stdout",
     "output_type": "stream",
     "text": [
      "run the following from the cs231n directory and try again:\n",
      "python setup.py build_ext --inplace\n",
      "You may also need to restart your iPython kernel\n"
     ]
    }
   ],
   "source": [
    "# As usual, a bit of setup\n",
    "\n",
    "import time\n",
    "import numpy as np\n",
    "import matplotlib.pyplot as plt\n",
    "from cs231n.classifiers.fc_net import *\n",
    "from cs231n.data_utils import get_CIFAR10_data\n",
    "from cs231n.gradient_check import eval_numerical_gradient, eval_numerical_gradient_array\n",
    "from cs231n.solver import Solver\n",
    "\n",
    "%matplotlib inline\n",
    "plt.rcParams['figure.figsize'] = (10.0, 8.0) # set default size of plots\n",
    "plt.rcParams['image.interpolation'] = 'nearest'\n",
    "plt.rcParams['image.cmap'] = 'gray'\n",
    "\n",
    "# for auto-reloading external modules\n",
    "# see http://stackoverflow.com/questions/1907993/autoreload-of-modules-in-ipython\n",
    "%load_ext autoreload\n",
    "%autoreload 2\n",
    "\n",
    "def rel_error(x, y):\n",
    "  \"\"\" returns relative error \"\"\"\n",
    "  return np.max(np.abs(x - y) / (np.maximum(1e-8, np.abs(x) + np.abs(y))))"
   ]
  },
  {
   "cell_type": "code",
   "execution_count": 3,
   "metadata": {
    "collapsed": false
   },
   "outputs": [
    {
     "name": "stdout",
     "output_type": "stream",
     "text": [
      "X_val:  (1000, 3, 32, 32)\n",
      "X_train:  (49000, 3, 32, 32)\n",
      "X_test:  (1000, 3, 32, 32)\n",
      "y_val:  (1000,)\n",
      "y_train:  (49000,)\n",
      "y_test:  (1000,)\n"
     ]
    }
   ],
   "source": [
    "# Load the (preprocessed) CIFAR10 data.\n",
    "\n",
    "data = get_CIFAR10_data()\n",
    "for k, v in data.iteritems():\n",
    "  print '%s: ' % k, v.shape"
   ]
  },
  {
   "cell_type": "markdown",
   "metadata": {},
   "source": [
    "# Dropout forward pass\n",
    "In the file `cs231n/layers.py`, implement the forward pass for dropout. Since dropout behaves differently during training and testing, make sure to implement the operation for both modes.\n",
    "\n",
    "Once you have done so, run the cell below to test your implementation."
   ]
  },
  {
   "cell_type": "code",
   "execution_count": 18,
   "metadata": {
    "collapsed": false
   },
   "outputs": [
    {
     "name": "stdout",
     "output_type": "stream",
     "text": [
      "Running tests with p =  0.3\n",
      "Mean of input:  9.99869166786\n",
      "Mean of train-time output:  20.5677986556\n",
      "Mean of test-time output:  9.99869166786\n",
      "Fraction of train-time output set to zero:  0.382936\n",
      "Fraction of test-time output set to zero:  0.0\n",
      "\n",
      "Running tests with p =  0.6\n",
      "Mean of input:  9.99869166786\n",
      "Mean of train-time output:  12.1008308252\n",
      "Mean of test-time output:  9.99869166786\n",
      "Fraction of train-time output set to zero:  0.273732\n",
      "Fraction of test-time output set to zero:  0.0\n",
      "\n",
      "Running tests with p =  0.75\n",
      "Mean of input:  9.99869166786\n",
      "Mean of train-time output:  10.3085077911\n",
      "Mean of test-time output:  9.99869166786\n",
      "Fraction of train-time output set to zero:  0.226828\n",
      "Fraction of test-time output set to zero:  0.0\n",
      "\n"
     ]
    }
   ],
   "source": [
    "x = np.random.randn(500, 500) + 10\n",
    "\n",
    "for p in [0.3, 0.6, 0.75]:\n",
    "  out, _ = dropout_forward(x, {'mode': 'train', 'p': p})\n",
    "  out_test, _ = dropout_forward(x, {'mode': 'test', 'p': p})\n",
    "\n",
    "  print 'Running tests with p = ', p\n",
    "  print 'Mean of input: ', x.mean()\n",
    "  print 'Mean of train-time output: ', out.mean()\n",
    "  print 'Mean of test-time output: ', out_test.mean()\n",
    "  print 'Fraction of train-time output set to zero: ', (out == 0).mean()\n",
    "  print 'Fraction of test-time output set to zero: ', (out_test == 0).mean()\n",
    "  print"
   ]
  },
  {
   "cell_type": "markdown",
   "metadata": {},
   "source": [
    "# Dropout backward pass\n",
    "In the file `cs231n/layers.py`, implement the backward pass for dropout. After doing so, run the following cell to numerically gradient-check your implementation."
   ]
  },
  {
   "cell_type": "code",
   "execution_count": 19,
   "metadata": {
    "collapsed": false
   },
   "outputs": [
    {
     "name": "stdout",
     "output_type": "stream",
     "text": [
      "dx relative error:  5.44561065281e-11\n"
     ]
    }
   ],
   "source": [
    "x = np.random.randn(10, 10) + 10\n",
    "dout = np.random.randn(*x.shape)\n",
    "\n",
    "dropout_param = {'mode': 'train', 'p': 0.8, 'seed': 123}\n",
    "out, cache = dropout_forward(x, dropout_param)\n",
    "dx = dropout_backward(dout, cache)\n",
    "dx_num = eval_numerical_gradient_array(lambda xx: dropout_forward(xx, dropout_param)[0], x, dout)\n",
    "\n",
    "print 'dx relative error: ', rel_error(dx, dx_num)"
   ]
  },
  {
   "cell_type": "markdown",
   "metadata": {},
   "source": [
    "# Fully-connected nets with Dropout\n",
    "In the file `cs231n/classifiers/fc_net.py`, modify your implementation to use dropout. Specificially, if the constructor the the net receives a nonzero value for the `dropout` parameter, then the net should add dropout immediately after every ReLU nonlinearity. After doing so, run the following to numerically gradient-check your implementation."
   ]
  },
  {
   "cell_type": "code",
   "execution_count": 20,
   "metadata": {
    "collapsed": false
   },
   "outputs": [
    {
     "name": "stdout",
     "output_type": "stream",
     "text": [
      "Running check with dropout =  0\n",
      "Initial loss:  2.3048212527\n",
      "W1 relative error: 3.43e-07\n",
      "W2 relative error: 3.93e-07\n",
      "W3 relative error: 7.75e-08\n",
      "b1 relative error: 2.31e-08\n",
      "b2 relative error: 3.10e-08\n",
      "b3 relative error: 8.28e-11\n",
      "\n",
      "Running check with dropout =  0.25\n",
      "Initial loss:  2.31400744825\n",
      "W1 relative error: 7.15e-08\n",
      "W2 relative error: 7.78e-09\n",
      "W3 relative error: 6.13e-09\n",
      "b1 relative error: 5.84e-10\n",
      "b2 relative error: 1.46e-09\n",
      "b3 relative error: 1.28e-10\n",
      "\n",
      "Running check with dropout =  0.5\n",
      "Initial loss:  2.29954933371\n",
      "W1 relative error: 6.62e-08\n",
      "W2 relative error: 1.47e-08\n",
      "W3 relative error: 3.12e-08\n",
      "b1 relative error: 9.19e-09\n",
      "b2 relative error: 5.89e-10\n",
      "b3 relative error: 1.48e-10\n",
      "\n"
     ]
    }
   ],
   "source": [
    "N, D, H1, H2, C = 2, 15, 20, 30, 10\n",
    "X = np.random.randn(N, D)\n",
    "y = np.random.randint(C, size=(N,))\n",
    "\n",
    "for dropout in [0, 0.25, 0.5]:\n",
    "  print 'Running check with dropout = ', dropout\n",
    "  model = FullyConnectedNet([H1, H2], input_dim=D, num_classes=C,\n",
    "                            weight_scale=5e-2, dtype=np.float64,\n",
    "                            dropout=dropout, seed=123)\n",
    "\n",
    "  loss, grads = model.loss(X, y)\n",
    "  print 'Initial loss: ', loss\n",
    "\n",
    "  for name in sorted(grads):\n",
    "    f = lambda _: model.loss(X, y)[0]\n",
    "    grad_num = eval_numerical_gradient(f, model.params[name], verbose=False, h=1e-5)\n",
    "    print '%s relative error: %.2e' % (name, rel_error(grad_num, grads[name]))\n",
    "  print"
   ]
  },
  {
   "cell_type": "markdown",
   "metadata": {},
   "source": [
    "# Regularization experiment\n",
    "As an experiment, we will train a pair of two-layer networks on 500 training examples: one will use no dropout, and one will use a dropout probability of 0.75. We will then visualize the training and validation accuracies of the two networks over time."
   ]
  },
  {
   "cell_type": "code",
   "execution_count": 46,
   "metadata": {
    "collapsed": false,
    "scrolled": true
   },
   "outputs": [
    {
     "name": "stdout",
     "output_type": "stream",
     "text": [
      "0\n",
      "(Iteration 1 / 500) loss: 69.980472\n",
      "(Epoch 0 / 25) train acc: 0.146000; val_acc: 0.137000\n",
      "(Iteration 11 / 500) loss: 68.354656\n",
      "(Epoch 1 / 25) train acc: 0.436000; val_acc: 0.246000\n",
      "(Iteration 21 / 500) loss: 65.737311\n",
      "(Iteration 31 / 500) loss: 59.738291\n",
      "(Epoch 2 / 25) train acc: 0.652000; val_acc: 0.292000\n",
      "(Iteration 41 / 500) loss: 56.107817\n",
      "(Iteration 51 / 500) loss: 53.346533\n",
      "(Epoch 3 / 25) train acc: 0.714000; val_acc: 0.283000\n",
      "(Iteration 61 / 500) loss: 50.185731\n",
      "(Iteration 71 / 500) loss: 50.540521\n",
      "(Epoch 4 / 25) train acc: 0.816000; val_acc: 0.302000\n",
      "(Iteration 81 / 500) loss: 45.383647\n",
      "(Iteration 91 / 500) loss: 44.116309\n",
      "(Epoch 5 / 25) train acc: 0.818000; val_acc: 0.274000\n",
      "(Iteration 101 / 500) loss: 42.823639\n",
      "(Iteration 111 / 500) loss: 39.966561\n",
      "(Epoch 6 / 25) train acc: 0.928000; val_acc: 0.317000\n",
      "(Iteration 121 / 500) loss: 38.732170\n",
      "(Iteration 131 / 500) loss: 37.137423\n",
      "(Epoch 7 / 25) train acc: 0.946000; val_acc: 0.299000\n",
      "(Iteration 141 / 500) loss: 35.555734\n",
      "(Iteration 151 / 500) loss: 34.263706\n",
      "(Epoch 8 / 25) train acc: 0.956000; val_acc: 0.304000\n",
      "(Iteration 161 / 500) loss: 33.382596\n",
      "(Iteration 171 / 500) loss: 31.938954\n",
      "(Epoch 9 / 25) train acc: 0.954000; val_acc: 0.309000\n",
      "(Iteration 181 / 500) loss: 31.072220\n",
      "(Iteration 191 / 500) loss: 30.147868\n",
      "(Epoch 10 / 25) train acc: 0.964000; val_acc: 0.280000\n",
      "(Iteration 201 / 500) loss: 28.671344\n",
      "(Iteration 211 / 500) loss: 27.668119\n",
      "(Epoch 11 / 25) train acc: 0.990000; val_acc: 0.299000\n",
      "(Iteration 221 / 500) loss: 26.706567\n",
      "(Iteration 231 / 500) loss: 25.776974\n",
      "(Epoch 12 / 25) train acc: 0.992000; val_acc: 0.303000\n",
      "(Iteration 241 / 500) loss: 24.868708\n",
      "(Iteration 251 / 500) loss: 23.997950\n",
      "(Epoch 13 / 25) train acc: 0.998000; val_acc: 0.314000\n",
      "(Iteration 261 / 500) loss: 23.158978\n",
      "(Iteration 271 / 500) loss: 22.341307\n",
      "(Epoch 14 / 25) train acc: 0.998000; val_acc: 0.315000\n",
      "(Iteration 281 / 500) loss: 21.555334\n",
      "(Iteration 291 / 500) loss: 20.863420\n",
      "(Epoch 15 / 25) train acc: 0.998000; val_acc: 0.314000\n",
      "(Iteration 301 / 500) loss: 20.065496\n",
      "(Iteration 311 / 500) loss: 19.360683\n",
      "(Epoch 16 / 25) train acc: 1.000000; val_acc: 0.314000\n",
      "(Iteration 321 / 500) loss: 18.686432\n",
      "(Iteration 331 / 500) loss: 18.019112\n",
      "(Epoch 17 / 25) train acc: 1.000000; val_acc: 0.315000\n",
      "(Iteration 341 / 500) loss: 17.382178\n",
      "(Iteration 351 / 500) loss: 16.777248\n",
      "(Epoch 18 / 25) train acc: 1.000000; val_acc: 0.323000\n",
      "(Iteration 361 / 500) loss: 16.175134\n",
      "(Iteration 371 / 500) loss: 15.600842\n",
      "(Epoch 19 / 25) train acc: 1.000000; val_acc: 0.317000\n",
      "(Iteration 381 / 500) loss: 15.044983\n",
      "(Iteration 391 / 500) loss: 14.510766\n",
      "(Epoch 20 / 25) train acc: 1.000000; val_acc: 0.318000\n",
      "(Iteration 401 / 500) loss: 13.996144\n",
      "(Iteration 411 / 500) loss: 13.498444\n",
      "(Epoch 21 / 25) train acc: 1.000000; val_acc: 0.320000\n",
      "(Iteration 421 / 500) loss: 13.016123\n",
      "(Iteration 431 / 500) loss: 12.555448\n",
      "(Epoch 22 / 25) train acc: 1.000000; val_acc: 0.322000\n",
      "(Iteration 441 / 500) loss: 12.110076\n",
      "(Iteration 451 / 500) loss: 11.678054\n",
      "(Epoch 23 / 25) train acc: 1.000000; val_acc: 0.327000\n",
      "(Iteration 461 / 500) loss: 11.253823\n",
      "(Iteration 471 / 500) loss: 10.856652\n",
      "(Epoch 24 / 25) train acc: 1.000000; val_acc: 0.327000\n",
      "(Iteration 481 / 500) loss: 10.462385\n",
      "(Iteration 491 / 500) loss: 10.086296\n",
      "(Epoch 25 / 25) train acc: 1.000000; val_acc: 0.327000\n",
      "0.5\n",
      "(Iteration 1 / 500) loss: 75.999249\n",
      "(Epoch 0 / 25) train acc: 0.162000; val_acc: 0.152000\n",
      "(Iteration 11 / 500) loss: 87.361647\n",
      "(Epoch 1 / 25) train acc: 0.462000; val_acc: 0.239000\n",
      "(Iteration 21 / 500) loss: 72.860059\n",
      "(Iteration 31 / 500) loss: 70.234786\n",
      "(Epoch 2 / 25) train acc: 0.586000; val_acc: 0.254000\n",
      "(Iteration 41 / 500) loss: 65.465122\n",
      "(Iteration 51 / 500) loss: 63.757354\n",
      "(Epoch 3 / 25) train acc: 0.682000; val_acc: 0.272000\n",
      "(Iteration 61 / 500) loss: 60.022786\n",
      "(Iteration 71 / 500) loss: 61.995707\n",
      "(Epoch 4 / 25) train acc: 0.760000; val_acc: 0.280000\n",
      "(Iteration 81 / 500) loss: 54.176124\n",
      "(Iteration 91 / 500) loss: 54.426601\n",
      "(Epoch 5 / 25) train acc: 0.820000; val_acc: 0.317000\n",
      "(Iteration 101 / 500) loss: 53.667909\n",
      "(Iteration 111 / 500) loss: 51.207180\n",
      "(Epoch 6 / 25) train acc: 0.846000; val_acc: 0.273000\n",
      "(Iteration 121 / 500) loss: 53.092050\n",
      "(Iteration 131 / 500) loss: 47.530310\n",
      "(Epoch 7 / 25) train acc: 0.884000; val_acc: 0.318000\n",
      "(Iteration 141 / 500) loss: 46.298416\n",
      "(Iteration 151 / 500) loss: 48.140407\n",
      "(Epoch 8 / 25) train acc: 0.908000; val_acc: 0.296000\n",
      "(Iteration 161 / 500) loss: 48.679150\n",
      "(Iteration 171 / 500) loss: 44.378058\n",
      "(Epoch 9 / 25) train acc: 0.934000; val_acc: 0.310000\n",
      "(Iteration 181 / 500) loss: 42.835902\n",
      "(Iteration 191 / 500) loss: 42.053510\n",
      "(Epoch 10 / 25) train acc: 0.948000; val_acc: 0.301000\n",
      "(Iteration 201 / 500) loss: 41.150674\n",
      "(Iteration 211 / 500) loss: 42.071915\n",
      "(Epoch 11 / 25) train acc: 0.956000; val_acc: 0.286000\n",
      "(Iteration 221 / 500) loss: 40.030313\n",
      "(Iteration 231 / 500) loss: 40.045734\n",
      "(Epoch 12 / 25) train acc: 0.926000; val_acc: 0.297000\n",
      "(Iteration 241 / 500) loss: 38.810284\n",
      "(Iteration 251 / 500) loss: 38.525267\n",
      "(Epoch 13 / 25) train acc: 0.938000; val_acc: 0.313000\n",
      "(Iteration 261 / 500) loss: 37.379659\n",
      "(Iteration 271 / 500) loss: 39.165168\n",
      "(Epoch 14 / 25) train acc: 0.974000; val_acc: 0.331000\n",
      "(Iteration 281 / 500) loss: 35.764306\n",
      "(Iteration 291 / 500) loss: 35.590786\n",
      "(Epoch 15 / 25) train acc: 0.976000; val_acc: 0.296000\n",
      "(Iteration 301 / 500) loss: 34.802655\n",
      "(Iteration 311 / 500) loss: 34.576534\n",
      "(Epoch 16 / 25) train acc: 0.986000; val_acc: 0.299000\n",
      "(Iteration 321 / 500) loss: 33.426251\n",
      "(Iteration 331 / 500) loss: 32.565047\n",
      "(Epoch 17 / 25) train acc: 0.982000; val_acc: 0.314000\n",
      "(Iteration 341 / 500) loss: 32.585133\n",
      "(Iteration 351 / 500) loss: 31.387759\n",
      "(Epoch 18 / 25) train acc: 0.990000; val_acc: 0.307000\n",
      "(Iteration 361 / 500) loss: 30.902427\n",
      "(Iteration 371 / 500) loss: 30.551044\n",
      "(Epoch 19 / 25) train acc: 0.986000; val_acc: 0.324000\n",
      "(Iteration 381 / 500) loss: 30.147036\n",
      "(Iteration 391 / 500) loss: 29.344553\n",
      "(Epoch 20 / 25) train acc: 0.986000; val_acc: 0.310000\n",
      "(Iteration 401 / 500) loss: 28.847074\n",
      "(Iteration 411 / 500) loss: 28.189728\n",
      "(Epoch 21 / 25) train acc: 0.984000; val_acc: 0.308000\n",
      "(Iteration 421 / 500) loss: 27.746373\n",
      "(Iteration 431 / 500) loss: 27.204848\n",
      "(Epoch 22 / 25) train acc: 0.992000; val_acc: 0.310000\n",
      "(Iteration 441 / 500) loss: 26.757413\n",
      "(Iteration 451 / 500) loss: 26.246087\n",
      "(Epoch 23 / 25) train acc: 0.994000; val_acc: 0.308000\n",
      "(Iteration 461 / 500) loss: 26.278149\n",
      "(Iteration 471 / 500) loss: 25.512115\n",
      "(Epoch 24 / 25) train acc: 0.994000; val_acc: 0.311000\n",
      "(Iteration 481 / 500) loss: 24.999829\n",
      "(Iteration 491 / 500) loss: 24.453591\n",
      "(Epoch 25 / 25) train acc: 0.996000; val_acc: 0.324000\n",
      "0.75\n",
      "(Iteration 1 / 500) loss: 70.213475\n",
      "(Epoch 0 / 25) train acc: 0.170000; val_acc: 0.120000\n",
      "(Iteration 11 / 500) loss: 70.729672\n",
      "(Epoch 1 / 25) train acc: 0.414000; val_acc: 0.227000\n",
      "(Iteration 21 / 500) loss: 69.739521\n",
      "(Iteration 31 / 500) loss: 65.847060\n",
      "(Epoch 2 / 25) train acc: 0.600000; val_acc: 0.274000\n",
      "(Iteration 41 / 500) loss: 58.140206\n",
      "(Iteration 51 / 500) loss: 55.475589\n",
      "(Epoch 3 / 25) train acc: 0.728000; val_acc: 0.266000\n",
      "(Iteration 61 / 500) loss: 55.417970\n",
      "(Iteration 71 / 500) loss: 52.728398\n",
      "(Epoch 4 / 25) train acc: 0.786000; val_acc: 0.293000\n",
      "(Iteration 81 / 500) loss: 48.125209\n",
      "(Iteration 91 / 500) loss: 47.132411\n",
      "(Epoch 5 / 25) train acc: 0.856000; val_acc: 0.297000\n",
      "(Iteration 101 / 500) loss: 45.348239\n",
      "(Iteration 111 / 500) loss: 44.582129\n",
      "(Epoch 6 / 25) train acc: 0.916000; val_acc: 0.305000\n",
      "(Iteration 121 / 500) loss: 41.355735\n",
      "(Iteration 131 / 500) loss: 41.217735\n",
      "(Epoch 7 / 25) train acc: 0.874000; val_acc: 0.292000\n",
      "(Iteration 141 / 500) loss: 39.389814\n",
      "(Iteration 151 / 500) loss: 39.573479\n",
      "(Epoch 8 / 25) train acc: 0.922000; val_acc: 0.290000\n",
      "(Iteration 161 / 500) loss: 36.690413\n",
      "(Iteration 171 / 500) loss: 36.156678\n",
      "(Epoch 9 / 25) train acc: 0.950000; val_acc: 0.293000\n",
      "(Iteration 181 / 500) loss: 35.834762\n",
      "(Iteration 191 / 500) loss: 34.089303\n",
      "(Epoch 10 / 25) train acc: 0.932000; val_acc: 0.283000\n",
      "(Iteration 201 / 500) loss: 34.077366\n",
      "(Iteration 211 / 500) loss: 32.724242\n",
      "(Epoch 11 / 25) train acc: 0.958000; val_acc: 0.305000\n",
      "(Iteration 221 / 500) loss: 31.660406\n",
      "(Iteration 231 / 500) loss: 30.612244\n",
      "(Epoch 12 / 25) train acc: 0.978000; val_acc: 0.304000\n",
      "(Iteration 241 / 500) loss: 30.218190\n",
      "(Iteration 251 / 500) loss: 28.671881\n",
      "(Epoch 13 / 25) train acc: 0.976000; val_acc: 0.300000\n",
      "(Iteration 261 / 500) loss: 28.058243\n",
      "(Iteration 271 / 500) loss: 27.154344\n",
      "(Epoch 14 / 25) train acc: 0.980000; val_acc: 0.299000\n",
      "(Iteration 281 / 500) loss: 26.481188\n",
      "(Iteration 291 / 500) loss: 25.828317\n",
      "(Epoch 15 / 25) train acc: 0.992000; val_acc: 0.300000\n",
      "(Iteration 301 / 500) loss: 25.288489\n",
      "(Iteration 311 / 500) loss: 24.449597\n",
      "(Epoch 16 / 25) train acc: 0.990000; val_acc: 0.308000\n",
      "(Iteration 321 / 500) loss: 23.811655\n",
      "(Iteration 331 / 500) loss: 23.139770\n",
      "(Epoch 17 / 25) train acc: 0.998000; val_acc: 0.320000\n",
      "(Iteration 341 / 500) loss: 22.482566\n",
      "(Iteration 351 / 500) loss: 21.991723\n",
      "(Epoch 18 / 25) train acc: 0.992000; val_acc: 0.309000\n",
      "(Iteration 361 / 500) loss: 21.296651\n",
      "(Iteration 371 / 500) loss: 20.719839\n",
      "(Epoch 19 / 25) train acc: 0.992000; val_acc: 0.310000\n",
      "(Iteration 381 / 500) loss: 20.168393\n",
      "(Iteration 391 / 500) loss: 19.633197\n",
      "(Epoch 20 / 25) train acc: 0.996000; val_acc: 0.316000\n",
      "(Iteration 401 / 500) loss: 19.254225\n",
      "(Iteration 411 / 500) loss: 18.606305\n",
      "(Epoch 21 / 25) train acc: 0.994000; val_acc: 0.310000\n",
      "(Iteration 421 / 500) loss: 18.193033\n",
      "(Iteration 431 / 500) loss: 17.625879\n",
      "(Epoch 22 / 25) train acc: 0.998000; val_acc: 0.306000\n",
      "(Iteration 441 / 500) loss: 17.173724\n",
      "(Iteration 451 / 500) loss: 16.675834\n",
      "(Epoch 23 / 25) train acc: 0.992000; val_acc: 0.304000\n",
      "(Iteration 461 / 500) loss: 16.232709\n",
      "(Iteration 471 / 500) loss: 16.082904\n",
      "(Epoch 24 / 25) train acc: 0.994000; val_acc: 0.280000\n",
      "(Iteration 481 / 500) loss: 15.375423\n",
      "(Iteration 491 / 500) loss: 14.983309\n",
      "(Epoch 25 / 25) train acc: 1.000000; val_acc: 0.310000\n"
     ]
    }
   ],
   "source": [
    "# Train two identical nets, one with dropout and one without\n",
    "\n",
    "num_train = 500\n",
    "small_data = {\n",
    "  'X_train': data['X_train'][:num_train],\n",
    "  'y_train': data['y_train'][:num_train],\n",
    "  'X_val': data['X_val'],\n",
    "  'y_val': data['y_val'],\n",
    "}\n",
    "\n",
    "solvers = {}\n",
    "dropout_choices = [0, 0.5,  0.75]\n",
    "# dropout_choices = [0]\n",
    "for dropout in dropout_choices:\n",
    "  model = FullyConnectedNet([500], dropout=dropout, reg=0.8)\n",
    "  print dropout\n",
    "\n",
    "  solver = Solver(model, small_data,\n",
    "                  num_epochs=25, batch_size=25,\n",
    "                  update_rule='adam',\n",
    "                  optim_config={\n",
    "                    'learning_rate': 5e-5,\n",
    "                  },\n",
    "                  verbose=True, print_every=10)\n",
    "  solver.train()\n",
    "  solvers[dropout] = solver"
   ]
  },
  {
   "cell_type": "code",
   "execution_count": 22,
   "metadata": {
    "collapsed": false
   },
   "outputs": [
    {
     "data": {
      "image/png": "[encoded data removed]",
      "text/plain": [
       "<matplotlib.figure.Figure at 0x7f4655eeb7d0>"
      ]
     },
     "metadata": {},
     "output_type": "display_data"
    }
   ],
   "source": [
    "# Plot train and validation accuracies of the two models\n",
    "\n",
    "train_accs = []\n",
    "val_accs = []\n",
    "for dropout in dropout_choices:\n",
    "  solver = solvers[dropout]\n",
    "  train_accs.append(solver.train_acc_history[-1])\n",
    "  val_accs.append(solver.val_acc_history[-1])\n",
    "\n",
    "plt.subplot(3, 1, 1)\n",
    "for dropout in dropout_choices:\n",
    "  plt.plot(solvers[dropout].train_acc_history, 'o', label='%.2f dropout' % dropout)\n",
    "plt.title('Train accuracy')\n",
    "plt.xlabel('Epoch')\n",
    "plt.ylabel('Accuracy')\n",
    "plt.legend(ncol=2, loc='lower right')\n",
    "  \n",
    "plt.subplot(3, 1, 2)\n",
    "for dropout in dropout_choices:\n",
    "  plt.plot(solvers[dropout].val_acc_history, 'o', label='%.2f dropout' % dropout)\n",
    "plt.title('Val accuracy')\n",
    "plt.xlabel('Epoch')\n",
    "plt.ylabel('Accuracy')\n",
    "plt.legend(ncol=2, loc='lower right')\n",
    "\n",
    "plt.gcf().set_size_inches(15, 15)\n",
    "plt.show()"
   ]
  },
  {
   "cell_type": "markdown",
   "metadata": {},
   "source": [
    "# Question\n",
    "Explain what you see in this experiment. What does it suggest about dropout?"
   ]
  },
  {
   "cell_type": "markdown",
   "metadata": {},
   "source": [
    "# Answer\n"
   ]
  }
 ],
 "metadata": {
  "kernelspec": {
   "display_name": "Python 2",
   "language": "python",
   "name": "python2"
  },
  "language_info": {
   "codemirror_mode": {
    "name": "ipython",
    "version": 2
   },
   "file_extension": ".py",
   "mimetype": "text/x-python",
   "name": "python",
   "nbconvert_exporter": "python",
   "pygments_lexer": "ipython2",
   "version": "2.7.6"
  }
 },
 "nbformat": 4,
 "nbformat_minor": 0
}
