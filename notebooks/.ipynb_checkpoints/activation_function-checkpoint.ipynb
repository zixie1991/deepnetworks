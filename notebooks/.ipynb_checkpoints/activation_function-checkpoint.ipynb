{
 "metadata": {
  "name": "",
  "signature": "sha256:01e121fe27049e7cbc386d9b7212c37a447c0ec7d723215d9ee1d4611f0d26a1"
 },
 "nbformat": 3,
 "nbformat_minor": 0,
 "worksheets": [
  {
   "cells": [
    {
     "cell_type": "code",
     "collapsed": false,
     "input": [
      "import numpy as np\n",
      "import matplotlib.pyplot as plt\n",
      "\n",
      "x = np.arange(-10., 10., 0.01)"
     ],
     "language": "python",
     "metadata": {},
     "outputs": [],
     "prompt_number": 4
    },
    {
     "cell_type": "code",
     "collapsed": false,
     "input": [
      "def sigmoid(x):\n",
      "    return 1. / (1. + np.exp(-x))\n",
      "\n",
      "y = sigmoid(x)\n",
      "plt.plot(x, y)\n",
      "plt.show()"
     ],
     "language": "python",
     "metadata": {},
     "outputs": [],
     "prompt_number": 5
    },
    {
     "cell_type": "code",
     "collapsed": false,
     "input": [
      "def relu(x):\n",
      "    return x * (x > 0)\n",
      "\n",
      "y = relu(x)\n",
      "plt.plot(x, y)\n",
      "plt.show()"
     ],
     "language": "python",
     "metadata": {},
     "outputs": [],
     "prompt_number": 5
    },
    {
     "cell_type": "code",
     "collapsed": false,
     "input": [
      "def tanh(x):\n",
      "    return (np.exp(x) - np.exp(-x))/(np.exp(x) + np.exp(-x))\n",
      "\n",
      "y = tanh(x)\n",
      "plt.plot(x, y)\n",
      "plt.show()"
     ],
     "language": "python",
     "metadata": {},
     "outputs": [],
     "prompt_number": 6
    },
    {
     "cell_type": "code",
     "collapsed": false,
     "input": [
      "def softplus(x):\n",
      "    return np.log(1 + np.exp(x))\n",
      "\n",
      "y = softplus(x)\n",
      "plt.plot(x, y)\n",
      "plt.show()"
     ],
     "language": "python",
     "metadata": {},
     "outputs": [],
     "prompt_number": 6
    }
   ],
   "metadata": {}
  }
 ]
}