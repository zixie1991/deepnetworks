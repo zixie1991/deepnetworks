{
 "metadata": {
  "name": "",
  "signature": "sha256:c59583bb5d18e8c77548e5b1d7c686894d87ad71d5639fb12b69b737cf18e5c4"
 },
 "nbformat": 3,
 "nbformat_minor": 0,
 "worksheets": [
  {
   "cells": [
    {
     "cell_type": "code",
     "collapsed": false,
     "input": [
      "# basic operations on images: http://docs.opencv.org/3.0-beta/doc/py_tutorials/py_core/py_basic_ops/py_basic_ops.html#basic-ops\n",
      "import cv2\n",
      "img = cv2.imread('../data/01.jpg') # BGR image\n",
      "print img.shape # (rows, cols, channels)\n",
      "print img.size # total number of pixels\n",
      "print img.dtype # image datatype\n",
      "print img"
     ],
     "language": "python",
     "metadata": {},
     "outputs": [
      {
       "output_type": "stream",
       "stream": "stdout",
       "text": [
        "(362, 400, 3)\n",
        "434400\n",
        "uint8\n",
        "[[[183 229 237]\n",
        "  [183 229 237]\n",
        "  [183 229 237]\n",
        "  ..., \n",
        "  [122 174 186]\n",
        "  [123 177 188]\n",
        "  [124 178 189]]\n",
        "\n",
        " [[183 229 237]\n",
        "  [183 229 237]\n",
        "  [183 229 237]\n",
        "  ..., \n",
        "  [122 174 186]\n",
        "  [122 176 187]\n",
        "  [123 177 188]]\n",
        "\n",
        " [[183 229 237]\n",
        "  [183 229 237]\n",
        "  [183 228 239]\n",
        "  ..., \n",
        "  [122 174 186]\n",
        "  [123 175 187]\n",
        "  [123 175 187]]\n",
        "\n",
        " ..., \n",
        " [[139 154 216]\n",
        "  [138 153 215]\n",
        "  [138 153 215]\n",
        "  ..., \n",
        "  [ 59  55  91]\n",
        "  [ 62  56  91]\n",
        "  [ 63  57  92]]\n",
        "\n",
        " [[141 155 214]\n",
        "  [140 154 213]\n",
        "  [140 154 213]\n",
        "  ..., \n",
        "  [ 62  58  93]\n",
        "  [ 63  57  92]\n",
        "  [ 62  56  91]]\n",
        "\n",
        " [[141 155 214]\n",
        "  [140 154 213]\n",
        "  [140 154 213]\n",
        "  ..., \n",
        "  [ 62  58  93]\n",
        "  [ 63  57  92]\n",
        "  [ 62  56  91]]]\n"
       ]
      }
     ],
     "prompt_number": 2
    },
    {
     "cell_type": "code",
     "collapsed": false,
     "input": [],
     "language": "python",
     "metadata": {},
     "outputs": []
    }
   ],
   "metadata": {}
  }
 ]
}